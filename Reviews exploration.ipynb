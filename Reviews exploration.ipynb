{
 "cells": [
  {
   "cell_type": "code",
   "execution_count": 1,
   "metadata": {},
   "outputs": [],
   "source": [
    "import numpy as np\n",
    "import pandas as pd\n",
    "import matplotlib.pyplot as plt\n",
    "import seaborn as sns\n",
    "import os\n"
   ]
  },
  {
   "cell_type": "code",
   "execution_count": 2,
   "metadata": {},
   "outputs": [
    {
     "name": "stdout",
     "output_type": "stream",
     "text": [
      "CPU times: user 1min 41s, sys: 6min 11s, total: 7min 53s\n",
      "Wall time: 50min 39s\n"
     ]
    },
    {
     "data": {
      "text/html": [
       "<div>\n",
       "<style scoped>\n",
       "    .dataframe tbody tr th:only-of-type {\n",
       "        vertical-align: middle;\n",
       "    }\n",
       "\n",
       "    .dataframe tbody tr th {\n",
       "        vertical-align: top;\n",
       "    }\n",
       "\n",
       "    .dataframe thead th {\n",
       "        text-align: right;\n",
       "    }\n",
       "</style>\n",
       "<table border=\"1\" class=\"dataframe\">\n",
       "  <thead>\n",
       "    <tr style=\"text-align: right;\">\n",
       "      <th></th>\n",
       "      <th>review_id</th>\n",
       "      <th>user_id</th>\n",
       "      <th>business_id</th>\n",
       "      <th>stars</th>\n",
       "      <th>useful</th>\n",
       "      <th>funny</th>\n",
       "      <th>cool</th>\n",
       "      <th>text</th>\n",
       "      <th>date</th>\n",
       "    </tr>\n",
       "  </thead>\n",
       "  <tbody>\n",
       "    <tr>\n",
       "      <td>0</td>\n",
       "      <td>xQY8N_XvtGbearJ5X4QryQ</td>\n",
       "      <td>OwjRMXRC0KyPrIlcjaXeFQ</td>\n",
       "      <td>-MhfebM0QIsKt87iDN-FNw</td>\n",
       "      <td>2.0</td>\n",
       "      <td>5.0</td>\n",
       "      <td>0.0</td>\n",
       "      <td>0.0</td>\n",
       "      <td>As someone who has worked with many museums, I...</td>\n",
       "      <td>2015-04-15 05:21:16</td>\n",
       "    </tr>\n",
       "    <tr>\n",
       "      <td>1</td>\n",
       "      <td>UmFMZ8PyXZTY2QcwzsfQYA</td>\n",
       "      <td>nIJD_7ZXHq-FX8byPMOkMQ</td>\n",
       "      <td>lbrU8StCq3yDfr-QMnGrmQ</td>\n",
       "      <td>1.0</td>\n",
       "      <td>1.0</td>\n",
       "      <td>1.0</td>\n",
       "      <td>0.0</td>\n",
       "      <td>I am actually horrified this place is still in...</td>\n",
       "      <td>2013-12-07 03:16:52</td>\n",
       "    </tr>\n",
       "    <tr>\n",
       "      <td>2</td>\n",
       "      <td>LG2ZaYiOgpr2DK_90pYjNw</td>\n",
       "      <td>V34qejxNsCbcgD8C0HVk-Q</td>\n",
       "      <td>HQl28KMwrEKHqhFrrDqVNQ</td>\n",
       "      <td>5.0</td>\n",
       "      <td>1.0</td>\n",
       "      <td>0.0</td>\n",
       "      <td>0.0</td>\n",
       "      <td>I love Deagan's. I do. I really do. The atmosp...</td>\n",
       "      <td>2015-12-05 03:18:11</td>\n",
       "    </tr>\n",
       "    <tr>\n",
       "      <td>3</td>\n",
       "      <td>i6g_oA9Yf9Y31qt0wibXpw</td>\n",
       "      <td>ofKDkJKXSKZXu5xJNGiiBQ</td>\n",
       "      <td>5JxlZaqCnk1MnbgRirs40Q</td>\n",
       "      <td>1.0</td>\n",
       "      <td>0.0</td>\n",
       "      <td>0.0</td>\n",
       "      <td>0.0</td>\n",
       "      <td>Dismal, lukewarm, defrosted-tasting \"TexMex\" g...</td>\n",
       "      <td>2011-05-27 05:30:52</td>\n",
       "    </tr>\n",
       "    <tr>\n",
       "      <td>4</td>\n",
       "      <td>6TdNDKywdbjoTkizeMce8A</td>\n",
       "      <td>UgMW8bLE0QMJDCkQ1Ax5Mg</td>\n",
       "      <td>IS4cv902ykd8wj1TR0N3-A</td>\n",
       "      <td>4.0</td>\n",
       "      <td>0.0</td>\n",
       "      <td>0.0</td>\n",
       "      <td>0.0</td>\n",
       "      <td>Oh happy day, finally have a Canes near my cas...</td>\n",
       "      <td>2017-01-14 21:56:57</td>\n",
       "    </tr>\n",
       "    <tr>\n",
       "      <td>5</td>\n",
       "      <td>L2O_INwlrRuoX05KSjc4eg</td>\n",
       "      <td>5vD2kmE25YBrbayKhykNxQ</td>\n",
       "      <td>nlxHRv1zXGT0c0K51q3jDg</td>\n",
       "      <td>5.0</td>\n",
       "      <td>2.0</td>\n",
       "      <td>0.0</td>\n",
       "      <td>0.0</td>\n",
       "      <td>This is definitely my favorite fast food sub s...</td>\n",
       "      <td>2013-05-07 07:25:25</td>\n",
       "    </tr>\n",
       "    <tr>\n",
       "      <td>6</td>\n",
       "      <td>ZayJ1zWyWgY9S_TRLT_y9Q</td>\n",
       "      <td>aq_ZxGHiri48TUXJlpRkCQ</td>\n",
       "      <td>Pthe4qk5xh4n-ef-9bvMSg</td>\n",
       "      <td>5.0</td>\n",
       "      <td>1.0</td>\n",
       "      <td>0.0</td>\n",
       "      <td>0.0</td>\n",
       "      <td>Really good place with simple decor, amazing f...</td>\n",
       "      <td>2015-11-05 23:11:05</td>\n",
       "    </tr>\n",
       "    <tr>\n",
       "      <td>7</td>\n",
       "      <td>lpFIJYpsvDxyph-kPzZ6aA</td>\n",
       "      <td>dsd-KNYKMpx6ma_sRWCSkQ</td>\n",
       "      <td>FNCJpSn0tL9iqoY3JC73qw</td>\n",
       "      <td>5.0</td>\n",
       "      <td>0.0</td>\n",
       "      <td>0.0</td>\n",
       "      <td>0.0</td>\n",
       "      <td>Awesome office and staff, very professional an...</td>\n",
       "      <td>2017-07-18 18:31:54</td>\n",
       "    </tr>\n",
       "    <tr>\n",
       "      <td>8</td>\n",
       "      <td>JA-xnyHytKiOIHl_ztnK9Q</td>\n",
       "      <td>P6apihD4ASf1vpPxHODxAQ</td>\n",
       "      <td>e_BiI4ej1CW1F0EyVLr-FQ</td>\n",
       "      <td>5.0</td>\n",
       "      <td>0.0</td>\n",
       "      <td>0.0</td>\n",
       "      <td>0.0</td>\n",
       "      <td>Most delicious authentic Italian I've had in t...</td>\n",
       "      <td>2015-02-16 06:48:47</td>\n",
       "    </tr>\n",
       "    <tr>\n",
       "      <td>9</td>\n",
       "      <td>z4BCgTkfNtCu4XY5Lp97ww</td>\n",
       "      <td>jOERvhmK6_lo_XGUBPws_w</td>\n",
       "      <td>Ws8V970-mQt2X9CwCuT5zw</td>\n",
       "      <td>4.0</td>\n",
       "      <td>3.0</td>\n",
       "      <td>0.0</td>\n",
       "      <td>1.0</td>\n",
       "      <td>I have been here twice. Very nice and laid bac...</td>\n",
       "      <td>2009-10-13 04:16:41</td>\n",
       "    </tr>\n",
       "  </tbody>\n",
       "</table>\n",
       "</div>"
      ],
      "text/plain": [
       "                review_id                 user_id             business_id  \\\n",
       "0  xQY8N_XvtGbearJ5X4QryQ  OwjRMXRC0KyPrIlcjaXeFQ  -MhfebM0QIsKt87iDN-FNw   \n",
       "1  UmFMZ8PyXZTY2QcwzsfQYA  nIJD_7ZXHq-FX8byPMOkMQ  lbrU8StCq3yDfr-QMnGrmQ   \n",
       "2  LG2ZaYiOgpr2DK_90pYjNw  V34qejxNsCbcgD8C0HVk-Q  HQl28KMwrEKHqhFrrDqVNQ   \n",
       "3  i6g_oA9Yf9Y31qt0wibXpw  ofKDkJKXSKZXu5xJNGiiBQ  5JxlZaqCnk1MnbgRirs40Q   \n",
       "4  6TdNDKywdbjoTkizeMce8A  UgMW8bLE0QMJDCkQ1Ax5Mg  IS4cv902ykd8wj1TR0N3-A   \n",
       "5  L2O_INwlrRuoX05KSjc4eg  5vD2kmE25YBrbayKhykNxQ  nlxHRv1zXGT0c0K51q3jDg   \n",
       "6  ZayJ1zWyWgY9S_TRLT_y9Q  aq_ZxGHiri48TUXJlpRkCQ  Pthe4qk5xh4n-ef-9bvMSg   \n",
       "7  lpFIJYpsvDxyph-kPzZ6aA  dsd-KNYKMpx6ma_sRWCSkQ  FNCJpSn0tL9iqoY3JC73qw   \n",
       "8  JA-xnyHytKiOIHl_ztnK9Q  P6apihD4ASf1vpPxHODxAQ  e_BiI4ej1CW1F0EyVLr-FQ   \n",
       "9  z4BCgTkfNtCu4XY5Lp97ww  jOERvhmK6_lo_XGUBPws_w  Ws8V970-mQt2X9CwCuT5zw   \n",
       "\n",
       "   stars  useful  funny  cool  \\\n",
       "0    2.0     5.0    0.0   0.0   \n",
       "1    1.0     1.0    1.0   0.0   \n",
       "2    5.0     1.0    0.0   0.0   \n",
       "3    1.0     0.0    0.0   0.0   \n",
       "4    4.0     0.0    0.0   0.0   \n",
       "5    5.0     2.0    0.0   0.0   \n",
       "6    5.0     1.0    0.0   0.0   \n",
       "7    5.0     0.0    0.0   0.0   \n",
       "8    5.0     0.0    0.0   0.0   \n",
       "9    4.0     3.0    0.0   1.0   \n",
       "\n",
       "                                                text                 date  \n",
       "0  As someone who has worked with many museums, I...  2015-04-15 05:21:16  \n",
       "1  I am actually horrified this place is still in...  2013-12-07 03:16:52  \n",
       "2  I love Deagan's. I do. I really do. The atmosp...  2015-12-05 03:18:11  \n",
       "3  Dismal, lukewarm, defrosted-tasting \"TexMex\" g...  2011-05-27 05:30:52  \n",
       "4  Oh happy day, finally have a Canes near my cas...  2017-01-14 21:56:57  \n",
       "5  This is definitely my favorite fast food sub s...  2013-05-07 07:25:25  \n",
       "6  Really good place with simple decor, amazing f...  2015-11-05 23:11:05  \n",
       "7  Awesome office and staff, very professional an...  2017-07-18 18:31:54  \n",
       "8  Most delicious authentic Italian I've had in t...  2015-02-16 06:48:47  \n",
       "9  I have been here twice. Very nice and laid bac...  2009-10-13 04:16:41  "
      ]
     },
     "execution_count": 2,
     "metadata": {},
     "output_type": "execute_result"
    }
   ],
   "source": [
    "%%time\n",
    "# Importing the csv \n",
    "reviews = pd.read_csv('reviews.csv')\n",
    "\n",
    "# Displaying the first 5 lines of the csv \n",
    "reviews.head(10)"
   ]
  },
  {
   "cell_type": "code",
   "execution_count": 4,
   "metadata": {},
   "outputs": [
    {
     "data": {
      "text/plain": [
       "0          False\n",
       "1          False\n",
       "2          False\n",
       "3          False\n",
       "4          False\n",
       "           ...  \n",
       "8021119    False\n",
       "8021120    False\n",
       "8021121    False\n",
       "8021122    False\n",
       "8021123    False\n",
       "Name: user_id, Length: 8021124, dtype: bool"
      ]
     },
     "execution_count": 4,
     "metadata": {},
     "output_type": "execute_result"
    }
   ],
   "source": [
    "reviews['user_id'] == 'xvu8G900tezTzbbfqmTKvA'"
   ]
  },
  {
   "cell_type": "code",
   "execution_count": 3,
   "metadata": {
    "scrolled": true
   },
   "outputs": [
    {
     "name": "stdout",
     "output_type": "stream",
     "text": [
      "<class 'pandas.core.frame.DataFrame'>\n",
      "RangeIndex: 8021124 entries, 0 to 8021123\n",
      "Data columns (total 9 columns):\n",
      "review_id      object\n",
      "user_id        object\n",
      "business_id    object\n",
      "stars          float64\n",
      "useful         float64\n",
      "funny          float64\n",
      "cool           float64\n",
      "text           object\n",
      "date           object\n",
      "dtypes: float64(4), object(5)\n",
      "memory usage: 550.8+ MB\n"
     ]
    }
   ],
   "source": [
    "reviews.info()"
   ]
  },
  {
   "cell_type": "code",
   "execution_count": null,
   "metadata": {},
   "outputs": [],
   "source": []
  },
  {
   "cell_type": "code",
   "execution_count": null,
   "metadata": {},
   "outputs": [],
   "source": []
  },
  {
   "cell_type": "markdown",
   "metadata": {},
   "source": [
    "**Preprocessing the text**\n",
    "\n",
    "\n",
    "To do this, we're going to do some preprocessing with our text. \n",
    "\n",
    "\n",
    "- First, we will remove the following:\n",
    "    - Punctuation\n",
    "    - Digits\n",
    "    - Lowercase the words\n",
    "    - Remove stopwords\n",
    "    \n",
    "- Second, we're going to take a look at the number of words and count them along with visually showing the distribution to the word count to get an idea of how long individuals would usually contribute towards suggesting a review.\n",
    "- Third, we're going to look at a wordcloud of what some of the words might look like within these reviews.\n",
    " "
   ]
  },
  {
   "cell_type": "code",
   "execution_count": null,
   "metadata": {},
   "outputs": [],
   "source": [
    "# Removing punctuation, numbers and lowercasing for our text column in the dataframe\n",
    "# Removing all punctuation from our text column\n",
    "reviews['text'] = reviews['text'].str.translate(str.maketrans('','', string.punctuation))\n",
    "print(f'The following punctuations: {string.punctuation} have been removed from the text column')\n",
    "\n",
    "# Removing all digits/numbers from our text column\n",
    "reviews['text'] = reviews['text'].str.translate(str.maketrans('','', string.digits))\n",
    "print(f'The following {string.digits} have been removed from the text column')\n",
    "\n",
    "# Lowering all case for our texts\n",
    "reviews['text'] = reviews['text'].str.lower()\n",
    "print(f'The text has been made to lowercase')\n",
    "\n",
    "# Let's take a look at the columns\n",
    "reviews.head()"
   ]
  },
  {
   "cell_type": "code",
   "execution_count": null,
   "metadata": {},
   "outputs": [],
   "source": [
    "# Converting our text column from series to string so that we can split\n",
    "reviews['text'] = reviews['text'].astype(str)\n",
    "\n",
    "# Getting the total number of words in our text columns for the tips by users\n",
    "reviews['Tips Word Count'] = reviews['text'].apply(lambda x: len(x.split(' ')))\n",
    "reviews.head()"
   ]
  },
  {
   "cell_type": "code",
   "execution_count": null,
   "metadata": {},
   "outputs": [],
   "source": []
  },
  {
   "cell_type": "markdown",
   "metadata": {},
   "source": [
    "**Splitting up the date/time of review**"
   ]
  },
  {
   "cell_type": "code",
   "execution_count": null,
   "metadata": {},
   "outputs": [],
   "source": [
    "# Converting date column data type from object to datetime just incase \n",
    "reviews['date'] = pd.to_datetime(reviews['date'])\n",
    "\n",
    "# Converting true_df date columns into year, month and day\n",
    "# Extracting the year of publishing\n",
    "reviews['Reviews - Year'] = reviews['date'].dt.year\n",
    "\n",
    "# Extracting the month of the year\n",
    "reviews['Reviews - Month'] = reviews['date'].dt.month_name()\n",
    "\n",
    "# Extracting the day of the month\n",
    "reviews['Reviews - Day'] = reviews['date'].dt.day\n",
    "\n",
    "# Extracting hour of day\n",
    "reviews['Reviews - Hour'] = reviews['date'].dt.hour\n",
    "\n",
    "# Extracting day of week\n",
    "reviews['Reviews - DayofWeek'] = reviews['date'].dt.day_name()\n",
    "\n",
    "# Let's take a look at the dataframe now as it shouldve added 5 columns\n",
    "reviews.head()"
   ]
  },
  {
   "cell_type": "code",
   "execution_count": null,
   "metadata": {},
   "outputs": [],
   "source": [
    "# Let's see how the tipping has changed over the years\n",
    "plt.figure(figsize = (10,5))\n",
    "sns.countplot(tips['Reviews - Year'], palette = 'Wistia_r' )\n",
    "plt.xlabel('Yearly contributions for reviews by Yelp Users', fontsize = 15)\n",
    "plt.ylabel('Suggested Reviews by Yelp Users', fontsize = 15)\n",
    "plt.title('Reviews contributions over the years by Yelp Users', fontsize = 20)\n",
    "plt.tight_layout()\n",
    "plt.show()"
   ]
  },
  {
   "cell_type": "code",
   "execution_count": null,
   "metadata": {},
   "outputs": [],
   "source": [
    "# Let's see how the tipping has changed over the months\n",
    "plt.figure(figsize = (10,5))\n",
    "sns.countplot(tips['Reviews - Month'], palette = 'cividis')\n",
    "plt.xlabel('Monthly contributions for reviews by Yelp Users', fontsize = 15)\n",
    "plt.ylabel('Suggested Reviews by Yelp Users', fontsize = 15)\n",
    "plt.title('Reviews contributions over the months by Yelp Users', fontsize = 20)\n",
    "plt.tight_layout()\n",
    "plt.show()"
   ]
  },
  {
   "cell_type": "code",
   "execution_count": null,
   "metadata": {},
   "outputs": [],
   "source": [
    "# Let's see how the tipping has changed over the days\n",
    "plt.figure(figsize = (10,5))\n",
    "sns.countplot(tips['Reviews - Year'], palette = 'Blues' )\n",
    "plt.xlabel('Daily contributions for reviews by Yelp Users', fontsize = 15)\n",
    "plt.ylabel('Suggested Reviews by Yelp Users', fontsize = 15)\n",
    "plt.title('Reviews contributions on a daily basis by Yelp Users', fontsize = 20)\n",
    "plt.tight_layout()\n",
    "plt.show()"
   ]
  },
  {
   "cell_type": "code",
   "execution_count": null,
   "metadata": {},
   "outputs": [],
   "source": [
    "# Let's see how the tipping has changed over the hour\n",
    "plt.figure(figsize = (10,5))\n",
    "sns.countplot(reviews['Reviews - Hour'], palette = 'BuPu' )\n",
    "plt.xlabel('Yearly contributions for reviews by Yelp Users', fontsize = 15)\n",
    "plt.ylabel('Suggested Reviews by Yelp Users', fontsize = 15)\n",
    "plt.title('Reviews contributions over the hours by Yelp Users', fontsize = 20)\n",
    "plt.tight_layout()\n",
    "plt.show()"
   ]
  },
  {
   "cell_type": "code",
   "execution_count": null,
   "metadata": {},
   "outputs": [],
   "source": [
    "# Let's see how the tipping has changed over the day of week\n",
    "plt.figure(figsize = (10,5))\n",
    "sns.countplot(reviews['Reviews - DayofWeek'], palette = 'Oranges' )\n",
    "plt.xlabel('Yearly contributions for reviews by Yelp Users', fontsize = 15)\n",
    "plt.ylabel('Suggested Reviews by Yelp Users', fontsize = 15)\n",
    "plt.title('Reviews contributions over the days of week by Yelp Users', fontsize = 20)\n",
    "plt.tight_layout()\n",
    "plt.show()"
   ]
  },
  {
   "cell_type": "code",
   "execution_count": null,
   "metadata": {},
   "outputs": [],
   "source": []
  }
 ],
 "metadata": {
  "kernelspec": {
   "display_name": "Python 3",
   "language": "python",
   "name": "python3"
  },
  "language_info": {
   "codemirror_mode": {
    "name": "ipython",
    "version": 3
   },
   "file_extension": ".py",
   "mimetype": "text/x-python",
   "name": "python",
   "nbconvert_exporter": "python",
   "pygments_lexer": "ipython3",
   "version": "3.7.4"
  }
 },
 "nbformat": 4,
 "nbformat_minor": 2
}
